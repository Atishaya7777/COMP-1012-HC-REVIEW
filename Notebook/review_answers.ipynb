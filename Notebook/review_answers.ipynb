{
 "cells": [
  {
   "cell_type": "markdown",
   "metadata": {},
   "source": [
    "### Problem: Check for the \"Mountain Property\"\n",
    "\n",
    "Write a recursive function `has_mountain_property(lst)` that checks if a list satisfies the \"Mountain Property.\"\n",
    "\n",
    "#### Mountain Property:\n",
    "1. The first and last elements of the list must be smaller than their immediate neighbors.\n",
    "2. This property must hold recursively for the inner part of the list until there are no \"inner\" elements left.\n",
    "\n",
    "#### Rules:\n",
    "- If the list has less than 3 elements, it automatically satisfies the Mountain Property.\n",
    "- For a list of length 3 or more:\n",
    "    - The first element must be smaller than the second element.\n",
    "    - The last element must be smaller than the second-to-last element.\n",
    "    - The inner part of the list (excluding the first and last elements) must also satisfy the Mountain Property.\n",
    "\n",
    "#### Examples:\n",
    "- `[1, 3, 2, 1]` -> ✅ True\n",
    "- `[0, 2, 4, 3, 2, 1]` -> ✅ True\n",
    "- `[5, 3, 2, 4, 6]` -> ❌ False\n",
    "- `[1, 2, 3, 4, 5]` -> ❌ False\n"
   ]
  },
  {
   "cell_type": "code",
   "execution_count": 2,
   "metadata": {},
   "outputs": [],
   "source": [
    "def has_mountain_property(lst):\n",
    "    # Base case: list with less than 3 elements always satisfies the property\n",
    "    if len(lst) < 3:\n",
    "        return True\n",
    "\n",
    "    # Check the first and last conditions\n",
    "    if lst[0] >= lst[1] or lst[-1] >= lst[-2]:\n",
    "        return False\n",
    "\n",
    "    # Recursive call on the inner sublist\n",
    "    return has_mountain_property(lst[1:-1])"
   ]
  },
  {
   "cell_type": "code",
   "execution_count": 1,
   "metadata": {},
   "outputs": [
    {
     "ename": "NameError",
     "evalue": "name 'has_mountain_property' is not defined",
     "output_type": "error",
     "traceback": [
      "\u001b[31m---------------------------------------------------------------------------\u001b[39m",
      "\u001b[31mNameError\u001b[39m                                 Traceback (most recent call last)",
      "\u001b[36mCell\u001b[39m\u001b[36m \u001b[39m\u001b[32mIn[1]\u001b[39m\u001b[32m, line 1\u001b[39m\n\u001b[32m----> \u001b[39m\u001b[32m1\u001b[39m \u001b[38;5;28;01massert\u001b[39;00m \u001b[43mhas_mountain_property\u001b[49m([\u001b[32m1\u001b[39m, \u001b[32m3\u001b[39m, \u001b[32m2\u001b[39m, \u001b[32m1\u001b[39m]) == \u001b[38;5;28;01mTrue\u001b[39;00m\n\u001b[32m      2\u001b[39m \u001b[38;5;28;01massert\u001b[39;00m has_mountain_property([\u001b[32m0\u001b[39m, \u001b[32m2\u001b[39m, \u001b[32m4\u001b[39m, \u001b[32m3\u001b[39m, \u001b[32m2\u001b[39m, \u001b[32m1\u001b[39m]) == \u001b[38;5;28;01mTrue\u001b[39;00m\n\u001b[32m      4\u001b[39m \u001b[38;5;28;01massert\u001b[39;00m has_mountain_property([\u001b[32m5\u001b[39m, \u001b[32m3\u001b[39m, \u001b[32m2\u001b[39m, \u001b[32m4\u001b[39m, \u001b[32m6\u001b[39m]) == \u001b[38;5;28;01mFalse\u001b[39;00m\n",
      "\u001b[31mNameError\u001b[39m: name 'has_mountain_property' is not defined"
     ]
    }
   ],
   "source": [
    "assert has_mountain_property([1, 3, 2, 1]) == True\n",
    "assert has_mountain_property([0, 2, 4, 3, 2, 1]) == True\n",
    "\n",
    "assert has_mountain_property([5, 3, 2, 4, 6]) == False\n",
    "assert has_mountain_property([1, 2, 3, 4, 5]) == False\n",
    "\n",
    "print(\"All tests passed! 🎉\")"
   ]
  },
  {
   "cell_type": "markdown",
   "metadata": {},
   "source": [
    "### Problem: Create a `Movie` Class\n",
    "\n",
    "Imagine that you are developing the backend for a movie ticket booking platform. You already have a system that pulls movies from cinemas across the country. Now, you need to create a class to represent each movie that can be listed and compared.\n",
    "\n",
    "#### Requirements:\n",
    "Write a `Movie` class that includes the following:\n",
    "\n",
    "- A **constructor** that stores the following:\n",
    "  - `title` (str)\n",
    "  - `movie_id` (int)\n",
    "  - `ticket_price` (float)\n",
    "  - `start_time` (int, in 24-hour format, e.g., 1930 for 7:30 PM)\n",
    "  - `end_time` (int, in 24-hour format)\n",
    "  - `is_3d` (bool): indicates whether the movie is shown in 3D\n",
    "\n",
    "- A `__str__` method that returns a formatted string with the movie’s details.\n",
    "\n",
    "    - **Example 1**: `\"Avatar, ID: 102, $15.99, starts at 1900, ends at 2130, 3D showing.\"`\n",
    "    - **Example 2**: `\"The Batman, ID: 215, $13.50, starts at 1800, ends at 2030, 2D showing.\"`\n",
    "\n",
    "- A method `get_start_time()` that returns the movie’s start time.\n",
    "\n",
    "- A method `add_discount()` that subtracts a given percentage from the ticket price (e.g., passing `20` reduces the price by 20%).\n",
    "\n",
    "- A method `is_earlier_than()` that compares two `Movie` objects and returns `True` if the current movie starts earlier than the movie passed as a parameter.\n",
    "\n",
    "Fill in the class definition in the Python block below:"
   ]
  },
  {
   "cell_type": "code",
   "execution_count": null,
   "metadata": {},
   "outputs": [],
   "source": [
    "class Movie:\n",
    "    def __init__(self, title, movie_id, ticket_price, start_time, end_time, is_3d):\n",
    "        self.title = title\n",
    "        self.movie_id = movie_id\n",
    "        self.ticket_price = ticket_price\n",
    "        self.start_time = start_time\n",
    "        self.end_time = end_time\n",
    "        self.is_3d = is_3d\n",
    "\n",
    "    def __str__(self):\n",
    "        format_str = f\"{self.title}, ID: {self.movie_id}, ${self.ticket_price:.2f}, starts at {self.start_time}, ends at {self.end_time}, \"\n",
    "        format_str += \"3D showing.\" if self.is_3d else \"2D showing.\"\n",
    "        return format_str\n",
    "\n",
    "    def get_start_time(self):\n",
    "        return self.start_time\n",
    "\n",
    "    def add_discount(self, percent):\n",
    "        discount = self.ticket_price * (percent / 100)\n",
    "        self.ticket_price -= discount\n",
    "\n",
    "    def is_earlier_than(self, other_movie):\n",
    "        return self.start_time < other_movie.get_start_time()"
   ]
  },
  {
   "cell_type": "code",
   "execution_count": null,
   "metadata": {},
   "outputs": [
    {
     "name": "stdout",
     "output_type": "stream",
     "text": [
      "Avatar, ID: 102, $15.99, starts at 1900, ends at 2130, 3D showing.\n",
      "The Batman, ID: 215, $13.50, starts at 1800, ends at 2030, 2D showing.\n",
      "All tests passed! 🎉\n"
     ]
    }
   ],
   "source": [
    "# Create some movie objects\n",
    "m1 = Movie(\"Avatar\", 102, 15.99, 1900, 2130, True)\n",
    "m2 = Movie(\"The Batman\", 215, 13.50, 1800, 2030, False)\n",
    "\n",
    "# Test __str__()\n",
    "print(m1)\n",
    "print(m2)\n",
    "\n",
    "# Test get_start_time()\n",
    "assert m1.get_start_time() == 1900\n",
    "assert m2.get_start_time() == 1800\n",
    "\n",
    "# Test is_earlier_than()\n",
    "assert m2.is_earlier_than(m1) == True\n",
    "assert m1.is_earlier_than(m2) == False\n",
    "\n",
    "# Test add_discount()\n",
    "m1.add_discount(10)\n",
    "assert round(m1.ticket_price, 2) == 14.39  # 15.99 - 10% = 14.391, rounded to 14.39\n",
    "\n",
    "print(\"All tests passed! 🎉\")"
   ]
  },
  {
   "cell_type": "markdown",
   "metadata": {},
   "source": [
    "### Problem: Zero Out the Border and Double the Diagonals\n",
    "\n",
    "You are given a 2D NumPy array of integers named `matrix`.\n",
    "\n",
    "Write a function `modify_matrix(matrix)` that does the following **in-place**:\n",
    "1. **Sets all the border elements** (top row, bottom row, leftmost column, and rightmost column) to `0`.\n",
    "2. **Doubles the values** on both diagonals (primary and secondary).  \n",
    "   - The **primary diagonal** runs from top-left to bottom-right.\n",
    "   - The **secondary diagonal** runs from top-right to bottom-left.\n",
    "\n",
    "#### Requirements:\n",
    "- The function should work for any square or rectangular NumPy array with at least 3 rows and 3 columns.\n",
    "- You must use slicing or advanced indexing where possible.\n",
    "- Do **not** use any explicit Python `for` loops.\n",
    "\n",
    "#### Example:\n",
    "If `matrix` is:\n",
    "```python\n",
    "[[1, 2, 3],\n",
    " [4, 5, 6],\n",
    " [7, 8, 9]]\n",
    "```\n",
    "After calling `modify_matrix(matrix)`, it should become:\n",
    "```python\n",
    "[[0, 0, 0],\n",
    " [0, 10, 0],\n",
    " [0, 0, 0]]\n",
    "```\n"
   ]
  },
  {
   "cell_type": "code",
   "execution_count": null,
   "metadata": {},
   "outputs": [],
   "source": [
    "import numpy as np\n",
    "\n",
    "def modify_matrix(matrix):\n",
    "    rows, cols = matrix.shape\n",
    "\n",
    "    # Set borders to 0\n",
    "    matrix[0, :] = 0\n",
    "    matrix[-1, :] = 0\n",
    "    matrix[:, 0] = 0\n",
    "    matrix[:, -1] = 0\n",
    "\n",
    "    # Double the diagonals (excluding borders)\n",
    "    for i in range(1, min(rows, cols) - 1):\n",
    "        matrix[i, i] *= 2                      # primary diagonal\n",
    "        matrix[i, cols - i - 1] *= 2           # secondary diagonal"
   ]
  },
  {
   "cell_type": "code",
   "execution_count": 4,
   "metadata": {},
   "outputs": [
    {
     "name": "stdout",
     "output_type": "stream",
     "text": [
      "All tests passed! 🎉\n"
     ]
    }
   ],
   "source": [
    "matrix = np.array([\n",
    "    [1,  2,  3,  4],\n",
    "    [5,  6,  7,  8],\n",
    "    [9, 10, 11, 12],\n",
    "    [13, 14, 15, 16]\n",
    "])\n",
    "\n",
    "modify_matrix(matrix)\n",
    "\n",
    "expected = np.array([\n",
    "    [0,  0,  0,  0],\n",
    "    [0, 12, 14, 0],\n",
    "    [0, 20, 22, 0],\n",
    "    [0,  0,  0,  0]\n",
    "])\n",
    "\n",
    "assert np.array_equal(matrix, expected), \"❌ Test failed.\"\n",
    "print(\"All tests passed! 🎉\")"
   ]
  }
 ],
 "metadata": {
  "kernelspec": {
   "display_name": ".venv",
   "language": "python",
   "name": "python3"
  },
  "language_info": {
   "codemirror_mode": {
    "name": "ipython",
    "version": 3
   },
   "file_extension": ".py",
   "mimetype": "text/x-python",
   "name": "python",
   "nbconvert_exporter": "python",
   "pygments_lexer": "ipython3",
   "version": "3.13.2"
  }
 },
 "nbformat": 4,
 "nbformat_minor": 2
}
